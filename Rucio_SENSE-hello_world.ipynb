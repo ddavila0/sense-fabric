{
 "cells": [
  {
   "cell_type": "code",
   "execution_count": 1,
   "id": "599d0a22-2f3a-4d62-9191-70ac123cef76",
   "metadata": {},
   "outputs": [],
   "source": [
    "import os\n",
    "import json\n",
    "import traceback\n",
    "from fabrictestbed_extensions.fablib.fablib import fablib\n",
    "\n",
    "# Bastion IPs\n",
    "os.environ['FABRIC_BASTION_HOST'] = 'bastion-1.fabric-testbed.net'\n",
    "\n",
    "# Set your Bastion username and private key\n",
    "os.environ['FABRIC_BASTION_USERNAME']='didavila_0008867181'\n",
    "os.environ['FABRIC_BASTION_KEY_LOCATION']=os.environ['HOME']+'/work/.ssh/id_rsa_fabric'\n",
    "\n",
    "# Set the keypair FABRIC will install in your slice. \n",
    "os.environ['FABRIC_SLICE_PRIVATE_KEY_FILE']=os.environ['HOME']+'/.ssh/id_rsa'\n",
    "os.environ['FABRIC_SLICE_PUBLIC_KEY_FILE']=os.environ['HOME']+'/.ssh/id_rsa.pub'"
   ]
  },
  {
   "cell_type": "code",
   "execution_count": 2,
   "id": "a13d847a-88c3-4922-93af-f34401dfbff2",
   "metadata": {},
   "outputs": [],
   "source": [
    "slice_name = 'slice_CERN2'\n",
    "slice = fablib.get_slice(slice_name)"
   ]
  },
  {
   "cell_type": "code",
   "execution_count": 3,
   "id": "599e2b13-1d78-4a20-a536-e1ad8279ffed",
   "metadata": {},
   "outputs": [],
   "source": [
    "nodes = slice.get_nodes()"
   ]
  },
  {
   "cell_type": "code",
   "execution_count": 4,
   "id": "13bdd8ac-d471-48b9-a2d1-6370f56b8dcf",
   "metadata": {},
   "outputs": [
    {
     "name": "stdout",
     "output_type": "stream",
     "text": [
      "   SSH Command       : ssh -i /home/fabric/work/fabric_config/slice_key -F /home/fabric/work/fabric_config/ssh_config cloud-user@2001:400:a100:3090:f816:3eff:fee8:df9a\n"
     ]
    }
   ],
   "source": [
    "print(f\"   SSH Command       : {nodes[0].get_ssh_command()}\")\n"
   ]
  },
  {
   "cell_type": "code",
   "execution_count": 5,
   "id": "0fda4be5-ce14-4eef-9a69-b0ecc295e99d",
   "metadata": {},
   "outputs": [
    {
     "name": "stdout",
     "output_type": "stream",
     "text": [
      "Node:\n",
      "   Name              : node_01\n",
      "   SSH Command       : ssh -i /home/fabric/work/fabric_config/slice_key -F /home/fabric/work/fabric_config/ssh_config cloud-user@2001:400:a100:3090:f816:3eff:fee8:df9a\n",
      "   Cores             : 8\n",
      "   RAM               : 16\n",
      "   Disk              : 100\n",
      "   Image             : default_centos9_stream\n",
      "   Image Type        : qcow2\n",
      "   Host              : cern-w6.fabric-testbed.net\n",
      "   Site              : CERN\n",
      "   Management IP     : 2001:400:a100:3090:f816:3eff:fee8:df9a\n",
      "   Reservation ID    : 68fe48f1-c836-4b86-84f4-cfec3a678ffd\n",
      "   Reservation State : Active\n",
      "   Components        : [<fabrictestbed_extensions.fablib.component.Component object at 0x7cbcd42d3d10>, <fabrictestbed_extensions.fablib.component.Component object at 0x7cbcd42dca10>]\n",
      "   Interfaces        : [<fabrictestbed_extensions.fablib.interface.Interface object at 0x7cbcd4165410>]\n",
      "\n"
     ]
    }
   ],
   "source": [
    "for node in slice.get_nodes():\n",
    "            print(\"Node:\")\n",
    "            print(f\"   Name              : {node.get_name()}\")\n",
    "            print(f\"   SSH Command       : {node.get_ssh_command()}\")\n",
    "            print(f\"   Cores             : {node.get_cores()}\")\n",
    "            print(f\"   RAM               : {node.get_ram()}\")\n",
    "            print(f\"   Disk              : {node.get_disk()}\")\n",
    "            print(f\"   Image             : {node.get_image()}\")\n",
    "            print(f\"   Image Type        : {node.get_image_type()}\")\n",
    "            print(f\"   Host              : {node.get_host()}\")\n",
    "            print(f\"   Site              : {node.get_site()}\")\n",
    "            print(f\"   Management IP     : {node.get_management_ip()}\")\n",
    "            print(f\"   Reservation ID    : {node.get_reservation_id()}\")\n",
    "            print(f\"   Reservation State : {node.get_reservation_state()}\")\n",
    "            print(f\"   Components        : {node.get_components()}\")\n",
    "            print(f\"   Interfaces        : {node.get_interfaces()}\")\n",
    "            print()    "
   ]
  },
  {
   "cell_type": "code",
   "execution_count": null,
   "id": "b20f5e6e-e959-4c17-87a3-816938546f7e",
   "metadata": {},
   "outputs": [],
   "source": [
    "slice_name_base = 'MySlice'\n",
    "site = 'CERN'\n",
    "node_name_base = 'node'\n",
    "#image = 'default_centos_8'\n",
    "image = 'default_ubuntu_20'\n",
    "#image = 'default_rocky_8'\n",
    "cores = 2\n",
    "ram = 8\n",
    "disk = 10\n",
    "node_count=1"
   ]
  },
  {
   "cell_type": "code",
   "execution_count": null,
   "id": "b35d9993-0d69-4d82-b002-8c2b1d596af4",
   "metadata": {},
   "outputs": [],
   "source": []
  },
  {
   "cell_type": "code",
   "execution_count": null,
   "id": "d470e31b-249b-4420-a516-be415c17b60b",
   "metadata": {},
   "outputs": [],
   "source": [
    "slice_name=f\"{slice_name_base}_{site}\"\n",
    "slice = fablib.new_slice(slice_name)\n",
    "node_name = f\"{node_name_base}{node_num}\"\n",
    "\n",
    "# Add node\n",
    "node = slice.add_node(name=node_name, site=site)\n",
    "node.set_capacities(cores=cores, ram=ram, disk=disk)\n",
    "node.set_image(image)\n",
    "\n",
    "#Submit Slice Request\n",
    "slice.submit()\n",
    "except Exception as e:\n",
    "    print(f\"Slice Failed: {e}\")\n",
    "    traceback.print_exc()    "
   ]
  },
  {
   "cell_type": "code",
   "execution_count": null,
   "id": "5f7a793e-f068-4cc4-acbe-8af16b933d17",
   "metadata": {},
   "outputs": [],
   "source": [
    "for site in sites:\n",
    "    try:\n",
    "        slice_name=f\"{slice_name_base}_{site}\"\n",
    "\n",
    "        print(f\"Get attributes for {slice_name} at {site}\")    \n",
    "        slice = fablib.get_slice(slice_name)\n",
    "        for node in slice.get_nodes():\n",
    "            print(\"Node:\")\n",
    "            print(f\"   Name              : {node.get_name()}\")\n",
    "            print(f\"   Cores             : {node.get_cores()}\")\n",
    "            print(f\"   RAM               : {node.get_ram()}\")\n",
    "            print(f\"   Disk              : {node.get_disk()}\")\n",
    "            print(f\"   Image             : {node.get_image()}\")\n",
    "            print(f\"   Image Type        : {node.get_image_type()}\")\n",
    "            print(f\"   Host              : {node.get_host()}\")\n",
    "            print(f\"   Site              : {node.get_site()}\")\n",
    "            print(f\"   Management IP     : {node.get_management_ip()}\")\n",
    "            print(f\"   Reservation ID    : {node.get_reservation_id()}\")\n",
    "            print(f\"   Reservation State : {node.get_reservation_state()}\")\n",
    "            print(f\"   Components        : {node.get_components()}\")\n",
    "            print(f\"   Interfaces        : {node.get_interfaces()}\")\n",
    "            print(f\"   SSH Command       : {node.get_ssh_command()}\")\n",
    "            print()    "
   ]
  }
 ],
 "metadata": {
  "kernelspec": {
   "display_name": "Python 3 (ipykernel)",
   "language": "python",
   "name": "python3"
  },
  "language_info": {
   "codemirror_mode": {
    "name": "ipython",
    "version": 3
   },
   "file_extension": ".py",
   "mimetype": "text/x-python",
   "name": "python",
   "nbconvert_exporter": "python",
   "pygments_lexer": "ipython3",
   "version": "3.11.8"
  }
 },
 "nbformat": 4,
 "nbformat_minor": 5
}
