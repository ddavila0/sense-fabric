{
 "cells": [
  {
   "cell_type": "code",
   "execution_count": 1,
   "id": "20f92198-a6d3-439e-96fa-2ee64a5d5276",
   "metadata": {},
   "outputs": [],
   "source": [
    "from fabrictestbed_extensions.fablib.fablib import FablibManager as fablib_manager\n",
    "fablib = fablib_manager()\n",
    "#fablib.show_config();"
   ]
  },
  {
   "cell_type": "code",
   "execution_count": 3,
   "id": "cef49a62-9909-4ae7-b3eb-6af5c4a53034",
   "metadata": {},
   "outputs": [],
   "source": [
    "site1='CERN'\n",
    "slice_name = 'slice_CERN'\n",
    "node1_name = 'node1'\n",
    "\n",
    "network1_name='net1'\n",
    "network2_name='net2'\n",
    "\n",
    "node1_nic1_name = 'nic1'\n",
    "node1_nic2_name = 'nic2'\n"
   ]
  },
  {
   "cell_type": "code",
   "execution_count": 4,
   "id": "13625989-36fb-40be-98d1-6b2eafd49fdd",
   "metadata": {},
   "outputs": [
    {
     "name": "stdout",
     "output_type": "stream",
     "text": [
      "\n",
      "Retry: 13, Time: 323 sec\n"
     ]
    },
    {
     "data": {
      "text/html": [
       "<style type=\"text/css\">\n",
       "#T_8705c tr:nth-child(even) {\n",
       "  background: #dbf3ff;\n",
       "  color: #231f20;\n",
       "}\n",
       "#T_8705c tr:nth-child(odd) {\n",
       "  background: #ffffff;\n",
       "  color: #231f20;\n",
       "}\n",
       "#T_8705c caption {\n",
       "  text-align: center;\n",
       "  font-size: 150%;\n",
       "}\n",
       "#T_8705c_row0_col0, #T_8705c_row0_col1, #T_8705c_row1_col0, #T_8705c_row1_col1, #T_8705c_row2_col0, #T_8705c_row2_col1, #T_8705c_row3_col0, #T_8705c_row3_col1, #T_8705c_row4_col0, #T_8705c_row4_col1, #T_8705c_row5_col0 {\n",
       "  text-align: left;\n",
       "  border: 1px #231f20 solid !important;\n",
       "  overwrite: False;\n",
       "  background-color: ;\n",
       "}\n",
       "#T_8705c_row5_col1 {\n",
       "  text-align: left;\n",
       "  border: 1px #231f20 solid !important;\n",
       "  overwrite: False;\n",
       "  background-color: #c3ffc4;\n",
       "}\n",
       "</style>\n",
       "<table id=\"T_8705c\">\n",
       "  <caption>Slice</caption>\n",
       "  <thead>\n",
       "  </thead>\n",
       "  <tbody>\n",
       "    <tr>\n",
       "      <td id=\"T_8705c_row0_col0\" class=\"data row0 col0\" >ID</td>\n",
       "      <td id=\"T_8705c_row0_col1\" class=\"data row0 col1\" >327b18b0-fa6a-444d-9900-6f5aa8e38fdb</td>\n",
       "    </tr>\n",
       "    <tr>\n",
       "      <td id=\"T_8705c_row1_col0\" class=\"data row1 col0\" >Name</td>\n",
       "      <td id=\"T_8705c_row1_col1\" class=\"data row1 col1\" >slice_CERN</td>\n",
       "    </tr>\n",
       "    <tr>\n",
       "      <td id=\"T_8705c_row2_col0\" class=\"data row2 col0\" >Lease Expiration (UTC)</td>\n",
       "      <td id=\"T_8705c_row2_col1\" class=\"data row2 col1\" >2024-07-23 22:23:59 +0000</td>\n",
       "    </tr>\n",
       "    <tr>\n",
       "      <td id=\"T_8705c_row3_col0\" class=\"data row3 col0\" >Lease Start (UTC)</td>\n",
       "      <td id=\"T_8705c_row3_col1\" class=\"data row3 col1\" >2024-07-22 22:23:59 +0000</td>\n",
       "    </tr>\n",
       "    <tr>\n",
       "      <td id=\"T_8705c_row4_col0\" class=\"data row4 col0\" >Project ID</td>\n",
       "      <td id=\"T_8705c_row4_col1\" class=\"data row4 col1\" >a57c7715-d871-4369-82e6-408c9a57a6e7</td>\n",
       "    </tr>\n",
       "    <tr>\n",
       "      <td id=\"T_8705c_row5_col0\" class=\"data row5 col0\" >State</td>\n",
       "      <td id=\"T_8705c_row5_col1\" class=\"data row5 col1\" >StableOK</td>\n",
       "    </tr>\n",
       "  </tbody>\n",
       "</table>\n"
      ],
      "text/plain": [
       "<pandas.io.formats.style.Styler at 0x7fd980098590>"
      ]
     },
     "metadata": {},
     "output_type": "display_data"
    },
    {
     "data": {
      "text/html": [
       "<style type=\"text/css\">\n",
       "#T_0c402 caption {\n",
       "  text-align: center;\n",
       "  font-size: 150%;\n",
       "  caption-side: top;\n",
       "}\n",
       "#T_0c402 th {\n",
       "  text-align: left;\n",
       "}\n",
       "#T_0c402 tr:nth-child(even) {\n",
       "  background: #ffffff;\n",
       "  color: #231f20;\n",
       "}\n",
       "#T_0c402 tr:nth-child(odd) {\n",
       "  background: #dbf3ff;\n",
       "  color: #231f20;\n",
       "}\n",
       "#T_0c402 .level0 {\n",
       "  border: 1px black solid !important;\n",
       "  background: #ffffff;\n",
       "  color: #231f20;\n",
       "}\n",
       "#T_0c402_row0_col0, #T_0c402_row0_col1, #T_0c402_row0_col2, #T_0c402_row0_col3, #T_0c402_row0_col4, #T_0c402_row0_col5, #T_0c402_row0_col6, #T_0c402_row0_col7, #T_0c402_row0_col8, #T_0c402_row0_col9, #T_0c402_row0_col10, #T_0c402_row0_col13, #T_0c402_row0_col14, #T_0c402_row0_col15 {\n",
       "  text-align: left;\n",
       "  border: 1px #231f20 solid !important;\n",
       "  overwrite: False;\n",
       "}\n",
       "#T_0c402_row0_col11 {\n",
       "  text-align: left;\n",
       "  border: 1px #231f20 solid !important;\n",
       "  overwrite: False;\n",
       "  background-color: #c3ffc4;\n",
       "}\n",
       "#T_0c402_row0_col12 {\n",
       "  text-align: left;\n",
       "  border: 1px #231f20 solid !important;\n",
       "  overwrite: False;\n",
       "  background-color: ;\n",
       "}\n",
       "</style>\n",
       "<table id=\"T_0c402\">\n",
       "  <caption>Nodes</caption>\n",
       "  <thead>\n",
       "    <tr>\n",
       "      <th id=\"T_0c402_level0_col0\" class=\"col_heading level0 col0\" >ID</th>\n",
       "      <th id=\"T_0c402_level0_col1\" class=\"col_heading level0 col1\" >Name</th>\n",
       "      <th id=\"T_0c402_level0_col2\" class=\"col_heading level0 col2\" >Cores</th>\n",
       "      <th id=\"T_0c402_level0_col3\" class=\"col_heading level0 col3\" >RAM</th>\n",
       "      <th id=\"T_0c402_level0_col4\" class=\"col_heading level0 col4\" >Disk</th>\n",
       "      <th id=\"T_0c402_level0_col5\" class=\"col_heading level0 col5\" >Image</th>\n",
       "      <th id=\"T_0c402_level0_col6\" class=\"col_heading level0 col6\" >Image Type</th>\n",
       "      <th id=\"T_0c402_level0_col7\" class=\"col_heading level0 col7\" >Host</th>\n",
       "      <th id=\"T_0c402_level0_col8\" class=\"col_heading level0 col8\" >Site</th>\n",
       "      <th id=\"T_0c402_level0_col9\" class=\"col_heading level0 col9\" >Username</th>\n",
       "      <th id=\"T_0c402_level0_col10\" class=\"col_heading level0 col10\" >Management IP</th>\n",
       "      <th id=\"T_0c402_level0_col11\" class=\"col_heading level0 col11\" >State</th>\n",
       "      <th id=\"T_0c402_level0_col12\" class=\"col_heading level0 col12\" >Error</th>\n",
       "      <th id=\"T_0c402_level0_col13\" class=\"col_heading level0 col13\" >SSH Command</th>\n",
       "      <th id=\"T_0c402_level0_col14\" class=\"col_heading level0 col14\" >Public SSH Key File</th>\n",
       "      <th id=\"T_0c402_level0_col15\" class=\"col_heading level0 col15\" >Private SSH Key File</th>\n",
       "    </tr>\n",
       "  </thead>\n",
       "  <tbody>\n",
       "    <tr>\n",
       "      <td id=\"T_0c402_row0_col0\" class=\"data row0 col0\" >cd49d324-365e-4cfd-b2fd-927338e3ac4d</td>\n",
       "      <td id=\"T_0c402_row0_col1\" class=\"data row0 col1\" >node1</td>\n",
       "      <td id=\"T_0c402_row0_col2\" class=\"data row0 col2\" >2</td>\n",
       "      <td id=\"T_0c402_row0_col3\" class=\"data row0 col3\" >8</td>\n",
       "      <td id=\"T_0c402_row0_col4\" class=\"data row0 col4\" >10</td>\n",
       "      <td id=\"T_0c402_row0_col5\" class=\"data row0 col5\" >default_rocky_8</td>\n",
       "      <td id=\"T_0c402_row0_col6\" class=\"data row0 col6\" >qcow2</td>\n",
       "      <td id=\"T_0c402_row0_col7\" class=\"data row0 col7\" >cern-w1.fabric-testbed.net</td>\n",
       "      <td id=\"T_0c402_row0_col8\" class=\"data row0 col8\" >CERN</td>\n",
       "      <td id=\"T_0c402_row0_col9\" class=\"data row0 col9\" >rocky</td>\n",
       "      <td id=\"T_0c402_row0_col10\" class=\"data row0 col10\" >2001:400:a100:3090:f816:3eff:fe37:ed82</td>\n",
       "      <td id=\"T_0c402_row0_col11\" class=\"data row0 col11\" >Active</td>\n",
       "      <td id=\"T_0c402_row0_col12\" class=\"data row0 col12\" ></td>\n",
       "      <td id=\"T_0c402_row0_col13\" class=\"data row0 col13\" >ssh -i /home/fabric/work/fabric_config/slice_key -F /home/fabric/work/fabric_config/ssh_config rocky@2001:400:a100:3090:f816:3eff:fe37:ed82</td>\n",
       "      <td id=\"T_0c402_row0_col14\" class=\"data row0 col14\" >/home/fabric/work/fabric_config/slice_key.pub</td>\n",
       "      <td id=\"T_0c402_row0_col15\" class=\"data row0 col15\" >/home/fabric/work/fabric_config/slice_key</td>\n",
       "    </tr>\n",
       "  </tbody>\n",
       "</table>\n"
      ],
      "text/plain": [
       "<pandas.io.formats.style.Styler at 0x7fd980181750>"
      ]
     },
     "metadata": {},
     "output_type": "display_data"
    },
    {
     "data": {
      "text/html": [
       "<style type=\"text/css\">\n",
       "#T_3e99f caption {\n",
       "  text-align: center;\n",
       "  font-size: 150%;\n",
       "  caption-side: top;\n",
       "}\n",
       "#T_3e99f th {\n",
       "  text-align: left;\n",
       "}\n",
       "#T_3e99f tr:nth-child(even) {\n",
       "  background: #ffffff;\n",
       "  color: #231f20;\n",
       "}\n",
       "#T_3e99f tr:nth-child(odd) {\n",
       "  background: #dbf3ff;\n",
       "  color: #231f20;\n",
       "}\n",
       "#T_3e99f .level0 {\n",
       "  border: 1px black solid !important;\n",
       "  background: #ffffff;\n",
       "  color: #231f20;\n",
       "}\n",
       "#T_3e99f_row0_col0, #T_3e99f_row0_col1, #T_3e99f_row0_col2, #T_3e99f_row0_col3, #T_3e99f_row0_col4, #T_3e99f_row0_col5, #T_3e99f_row0_col6, #T_3e99f_row1_col0, #T_3e99f_row1_col1, #T_3e99f_row1_col2, #T_3e99f_row1_col3, #T_3e99f_row1_col4, #T_3e99f_row1_col5, #T_3e99f_row1_col6 {\n",
       "  text-align: left;\n",
       "  border: 1px #231f20 solid !important;\n",
       "  overwrite: False;\n",
       "}\n",
       "#T_3e99f_row0_col7, #T_3e99f_row1_col7 {\n",
       "  text-align: left;\n",
       "  border: 1px #231f20 solid !important;\n",
       "  overwrite: False;\n",
       "  background-color: #c3ffc4;\n",
       "}\n",
       "#T_3e99f_row0_col8, #T_3e99f_row1_col8 {\n",
       "  text-align: left;\n",
       "  border: 1px #231f20 solid !important;\n",
       "  overwrite: False;\n",
       "  background-color: ;\n",
       "}\n",
       "</style>\n",
       "<table id=\"T_3e99f\">\n",
       "  <caption>Networks</caption>\n",
       "  <thead>\n",
       "    <tr>\n",
       "      <th id=\"T_3e99f_level0_col0\" class=\"col_heading level0 col0\" >ID</th>\n",
       "      <th id=\"T_3e99f_level0_col1\" class=\"col_heading level0 col1\" >Name</th>\n",
       "      <th id=\"T_3e99f_level0_col2\" class=\"col_heading level0 col2\" >Layer</th>\n",
       "      <th id=\"T_3e99f_level0_col3\" class=\"col_heading level0 col3\" >Type</th>\n",
       "      <th id=\"T_3e99f_level0_col4\" class=\"col_heading level0 col4\" >Site</th>\n",
       "      <th id=\"T_3e99f_level0_col5\" class=\"col_heading level0 col5\" >Subnet</th>\n",
       "      <th id=\"T_3e99f_level0_col6\" class=\"col_heading level0 col6\" >Gateway</th>\n",
       "      <th id=\"T_3e99f_level0_col7\" class=\"col_heading level0 col7\" >State</th>\n",
       "      <th id=\"T_3e99f_level0_col8\" class=\"col_heading level0 col8\" >Error</th>\n",
       "    </tr>\n",
       "  </thead>\n",
       "  <tbody>\n",
       "    <tr>\n",
       "      <td id=\"T_3e99f_row0_col0\" class=\"data row0 col0\" >04ebd461-038f-464e-a307-f8f92530d42a</td>\n",
       "      <td id=\"T_3e99f_row0_col1\" class=\"data row0 col1\" >net1</td>\n",
       "      <td id=\"T_3e99f_row0_col2\" class=\"data row0 col2\" >L3</td>\n",
       "      <td id=\"T_3e99f_row0_col3\" class=\"data row0 col3\" >FABNetv6</td>\n",
       "      <td id=\"T_3e99f_row0_col4\" class=\"data row0 col4\" >CERN</td>\n",
       "      <td id=\"T_3e99f_row0_col5\" class=\"data row0 col5\" >2602:fcfb:1d:2::/64</td>\n",
       "      <td id=\"T_3e99f_row0_col6\" class=\"data row0 col6\" >2602:fcfb:1d:2::1</td>\n",
       "      <td id=\"T_3e99f_row0_col7\" class=\"data row0 col7\" >Active</td>\n",
       "      <td id=\"T_3e99f_row0_col8\" class=\"data row0 col8\" ></td>\n",
       "    </tr>\n",
       "    <tr>\n",
       "      <td id=\"T_3e99f_row1_col0\" class=\"data row1 col0\" >0f3e2d87-818f-425a-8180-9298a05eab7d</td>\n",
       "      <td id=\"T_3e99f_row1_col1\" class=\"data row1 col1\" >net2</td>\n",
       "      <td id=\"T_3e99f_row1_col2\" class=\"data row1 col2\" >L3</td>\n",
       "      <td id=\"T_3e99f_row1_col3\" class=\"data row1 col3\" >FABNetv6</td>\n",
       "      <td id=\"T_3e99f_row1_col4\" class=\"data row1 col4\" >CERN</td>\n",
       "      <td id=\"T_3e99f_row1_col5\" class=\"data row1 col5\" >2602:fcfb:1d:1::/64</td>\n",
       "      <td id=\"T_3e99f_row1_col6\" class=\"data row1 col6\" >2602:fcfb:1d:1::1</td>\n",
       "      <td id=\"T_3e99f_row1_col7\" class=\"data row1 col7\" >Active</td>\n",
       "      <td id=\"T_3e99f_row1_col8\" class=\"data row1 col8\" ></td>\n",
       "    </tr>\n",
       "  </tbody>\n",
       "</table>\n"
      ],
      "text/plain": [
       "<pandas.io.formats.style.Styler at 0x7fd98021a010>"
      ]
     },
     "metadata": {},
     "output_type": "display_data"
    },
    {
     "data": {
      "text/html": [
       "<style type=\"text/css\">\n",
       "#T_37038 caption {\n",
       "  text-align: center;\n",
       "  font-size: 150%;\n",
       "  caption-side: top;\n",
       "}\n",
       "#T_37038 th {\n",
       "  text-align: left;\n",
       "}\n",
       "#T_37038 tr:nth-child(even) {\n",
       "  background: #ffffff;\n",
       "  color: #231f20;\n",
       "}\n",
       "#T_37038 tr:nth-child(odd) {\n",
       "  background: #dbf3ff;\n",
       "  color: #231f20;\n",
       "}\n",
       "#T_37038 .level0 {\n",
       "  border: 1px black solid !important;\n",
       "  background: #ffffff;\n",
       "  color: #231f20;\n",
       "}\n",
       "#T_37038_row0_col0, #T_37038_row0_col1, #T_37038_row0_col2, #T_37038_row0_col3, #T_37038_row0_col4, #T_37038_row0_col5, #T_37038_row0_col6, #T_37038_row0_col7, #T_37038_row0_col8, #T_37038_row0_col9, #T_37038_row0_col10, #T_37038_row0_col11, #T_37038_row0_col12, #T_37038_row1_col0, #T_37038_row1_col1, #T_37038_row1_col2, #T_37038_row1_col3, #T_37038_row1_col4, #T_37038_row1_col5, #T_37038_row1_col6, #T_37038_row1_col7, #T_37038_row1_col8, #T_37038_row1_col9, #T_37038_row1_col10, #T_37038_row1_col11, #T_37038_row1_col12 {\n",
       "  text-align: left;\n",
       "  border: 1px #231f20 solid !important;\n",
       "  overwrite: False;\n",
       "}\n",
       "</style>\n",
       "<table id=\"T_37038\">\n",
       "  <caption>Interfaces</caption>\n",
       "  <thead>\n",
       "    <tr>\n",
       "      <th id=\"T_37038_level0_col0\" class=\"col_heading level0 col0\" >Name</th>\n",
       "      <th id=\"T_37038_level0_col1\" class=\"col_heading level0 col1\" >Short Name</th>\n",
       "      <th id=\"T_37038_level0_col2\" class=\"col_heading level0 col2\" >Node</th>\n",
       "      <th id=\"T_37038_level0_col3\" class=\"col_heading level0 col3\" >Network</th>\n",
       "      <th id=\"T_37038_level0_col4\" class=\"col_heading level0 col4\" >Bandwidth</th>\n",
       "      <th id=\"T_37038_level0_col5\" class=\"col_heading level0 col5\" >Mode</th>\n",
       "      <th id=\"T_37038_level0_col6\" class=\"col_heading level0 col6\" >VLAN</th>\n",
       "      <th id=\"T_37038_level0_col7\" class=\"col_heading level0 col7\" >MAC</th>\n",
       "      <th id=\"T_37038_level0_col8\" class=\"col_heading level0 col8\" >Physical Device</th>\n",
       "      <th id=\"T_37038_level0_col9\" class=\"col_heading level0 col9\" >Device</th>\n",
       "      <th id=\"T_37038_level0_col10\" class=\"col_heading level0 col10\" >IP Address</th>\n",
       "      <th id=\"T_37038_level0_col11\" class=\"col_heading level0 col11\" >Numa Node</th>\n",
       "      <th id=\"T_37038_level0_col12\" class=\"col_heading level0 col12\" >Switch Port</th>\n",
       "    </tr>\n",
       "  </thead>\n",
       "  <tbody>\n",
       "    <tr>\n",
       "      <td id=\"T_37038_row0_col0\" class=\"data row0 col0\" >node1-nic2-p1</td>\n",
       "      <td id=\"T_37038_row0_col1\" class=\"data row0 col1\" >p1</td>\n",
       "      <td id=\"T_37038_row0_col2\" class=\"data row0 col2\" >node1</td>\n",
       "      <td id=\"T_37038_row0_col3\" class=\"data row0 col3\" >net2</td>\n",
       "      <td id=\"T_37038_row0_col4\" class=\"data row0 col4\" >100</td>\n",
       "      <td id=\"T_37038_row0_col5\" class=\"data row0 col5\" >config</td>\n",
       "      <td id=\"T_37038_row0_col6\" class=\"data row0 col6\" ></td>\n",
       "      <td id=\"T_37038_row0_col7\" class=\"data row0 col7\" >0A:2B:1C:A6:7C:94</td>\n",
       "      <td id=\"T_37038_row0_col8\" class=\"data row0 col8\" >eth2</td>\n",
       "      <td id=\"T_37038_row0_col9\" class=\"data row0 col9\" >eth2</td>\n",
       "      <td id=\"T_37038_row0_col10\" class=\"data row0 col10\" >2602:fcfb:1d:1:2411:52c9:7279:dbfc</td>\n",
       "      <td id=\"T_37038_row0_col11\" class=\"data row0 col11\" >6</td>\n",
       "      <td id=\"T_37038_row0_col12\" class=\"data row0 col12\" >HundredGigE0/0/0/5</td>\n",
       "    </tr>\n",
       "    <tr>\n",
       "      <td id=\"T_37038_row1_col0\" class=\"data row1 col0\" >node1-nic1-p1</td>\n",
       "      <td id=\"T_37038_row1_col1\" class=\"data row1 col1\" >p1</td>\n",
       "      <td id=\"T_37038_row1_col2\" class=\"data row1 col2\" >node1</td>\n",
       "      <td id=\"T_37038_row1_col3\" class=\"data row1 col3\" >net1</td>\n",
       "      <td id=\"T_37038_row1_col4\" class=\"data row1 col4\" >100</td>\n",
       "      <td id=\"T_37038_row1_col5\" class=\"data row1 col5\" >config</td>\n",
       "      <td id=\"T_37038_row1_col6\" class=\"data row1 col6\" ></td>\n",
       "      <td id=\"T_37038_row1_col7\" class=\"data row1 col7\" >06:CD:3C:FF:8A:7B</td>\n",
       "      <td id=\"T_37038_row1_col8\" class=\"data row1 col8\" >eth1</td>\n",
       "      <td id=\"T_37038_row1_col9\" class=\"data row1 col9\" >eth1</td>\n",
       "      <td id=\"T_37038_row1_col10\" class=\"data row1 col10\" >2602:fcfb:1d:2:64c:d8c1:f889:1022</td>\n",
       "      <td id=\"T_37038_row1_col11\" class=\"data row1 col11\" >6</td>\n",
       "      <td id=\"T_37038_row1_col12\" class=\"data row1 col12\" >HundredGigE0/0/0/5</td>\n",
       "    </tr>\n",
       "  </tbody>\n",
       "</table>\n"
      ],
      "text/plain": [
       "<pandas.io.formats.style.Styler at 0x7fd9801b1d90>"
      ]
     },
     "metadata": {},
     "output_type": "display_data"
    },
    {
     "name": "stdout",
     "output_type": "stream",
     "text": [
      "\n",
      "Time to print interfaces 333 seconds\n"
     ]
    }
   ],
   "source": [
    "#Create Slice\n",
    "slice = fablib.new_slice(name=slice_name)\n",
    "\n",
    "# Node1\n",
    "node1 = slice.add_node(name=node1_name, site=site1)\n",
    "iface1 = node1.add_component(model='NIC_Basic', name=node1_nic1_name).get_interfaces()[0]\n",
    "iface2 = node1.add_component(model='NIC_Basic', name=node1_nic2_name).get_interfaces()[0]\n",
    "\n",
    "# NetworkS\n",
    "net1 = slice.add_l3network(name=network1_name, interfaces=[iface1], type='IPv6')\n",
    "net2 = slice.add_l3network(name=network2_name, interfaces=[iface2], type='IPv6')\n",
    "\n",
    "#Submit Slice Request\n",
    "slice.submit();"
   ]
  },
  {
   "cell_type": "code",
   "execution_count": null,
   "id": "752a6a9e-98c7-4b75-b5ff-99393604bdc1",
   "metadata": {},
   "outputs": [],
   "source": [
    "network2 = slice.get_network(name=network2_name)\n",
    "network2.show()"
   ]
  },
  {
   "cell_type": "code",
   "execution_count": 28,
   "id": "32da17e9-ec95-459a-885d-2c980de2f058",
   "metadata": {},
   "outputs": [],
   "source": [
    "network1_available_ips = network1.get_available_ips()\n",
    "network2_available_ips = network2.get_available_ips()"
   ]
  },
  {
   "cell_type": "code",
   "execution_count": 29,
   "id": "7ec4e4b0-995c-409a-828b-c72508e36be0",
   "metadata": {},
   "outputs": [],
   "source": [
    "node1_iface2 = node1.get_interface(network_name=network2_name)  \n",
    "node1_addr2 = network2_available_ips.pop(0)"
   ]
  },
  {
   "cell_type": "code",
   "execution_count": 30,
   "id": "6d3a835f-79fa-4dd8-9b8e-221b152454c5",
   "metadata": {
    "scrolled": true
   },
   "outputs": [
    {
     "ename": "Exception",
     "evalue": "node.execute: Management IP Invalid: None",
     "output_type": "error",
     "traceback": [
      "\u001b[0;31m---------------------------------------------------------------------------\u001b[0m",
      "\u001b[0;31mException\u001b[0m                                 Traceback (most recent call last)",
      "Cell \u001b[0;32mIn[30], line 1\u001b[0m\n\u001b[0;32m----> 1\u001b[0m \u001b[43mnode1_iface2\u001b[49m\u001b[38;5;241;43m.\u001b[39;49m\u001b[43mip_addr_add\u001b[49m\u001b[43m(\u001b[49m\u001b[43maddr\u001b[49m\u001b[38;5;241;43m=\u001b[39;49m\u001b[43mnode1_addr2\u001b[49m\u001b[43m,\u001b[49m\u001b[43m \u001b[49m\u001b[43msubnet\u001b[49m\u001b[38;5;241;43m=\u001b[39;49m\u001b[43mnetwork2\u001b[49m\u001b[38;5;241;43m.\u001b[39;49m\u001b[43mget_subnet\u001b[49m\u001b[43m(\u001b[49m\u001b[43m)\u001b[49m\u001b[43m)\u001b[49m\n",
      "File \u001b[0;32m/opt/conda/lib/python3.11/site-packages/fabrictestbed_extensions/fablib/interface.py:556\u001b[0m, in \u001b[0;36mInterface.ip_addr_add\u001b[0;34m(self, addr, subnet)\u001b[0m\n\u001b[1;32m    547\u001b[0m \u001b[38;5;28;01mdef\u001b[39;00m \u001b[38;5;21mip_addr_add\u001b[39m(\u001b[38;5;28mself\u001b[39m, addr, subnet):\n\u001b[1;32m    548\u001b[0m \u001b[38;5;250m    \u001b[39m\u001b[38;5;124;03m\"\"\"\u001b[39;00m\n\u001b[1;32m    549\u001b[0m \u001b[38;5;124;03m    Add an IP address to the interface in the node.\u001b[39;00m\n\u001b[1;32m    550\u001b[0m \n\u001b[0;32m   (...)\u001b[0m\n\u001b[1;32m    554\u001b[0m \u001b[38;5;124;03m    :type subnet: IPv4Network or IPv4Network\u001b[39;00m\n\u001b[1;32m    555\u001b[0m \u001b[38;5;124;03m    \"\"\"\u001b[39;00m\n\u001b[0;32m--> 556\u001b[0m     \u001b[38;5;28;43mself\u001b[39;49m\u001b[38;5;241;43m.\u001b[39;49m\u001b[43mget_node\u001b[49m\u001b[43m(\u001b[49m\u001b[43m)\u001b[49m\u001b[38;5;241;43m.\u001b[39;49m\u001b[43mip_addr_add\u001b[49m\u001b[43m(\u001b[49m\u001b[43maddr\u001b[49m\u001b[43m,\u001b[49m\u001b[43m \u001b[49m\u001b[43msubnet\u001b[49m\u001b[43m,\u001b[49m\u001b[43m \u001b[49m\u001b[38;5;28;43mself\u001b[39;49m\u001b[43m)\u001b[49m\n",
      "File \u001b[0;32m/opt/conda/lib/python3.11/site-packages/fabrictestbed_extensions/fablib/node.py:2501\u001b[0m, in \u001b[0;36mNode.ip_addr_add\u001b[0;34m(self, addr, subnet, interface)\u001b[0m\n\u001b[1;32m   2499\u001b[0m \u001b[38;5;28;01mexcept\u001b[39;00m \u001b[38;5;167;01mException\u001b[39;00m \u001b[38;5;28;01mas\u001b[39;00m e:\n\u001b[1;32m   2500\u001b[0m     logging\u001b[38;5;241m.\u001b[39mwarning(\u001b[38;5;124mf\u001b[39m\u001b[38;5;124m\"\u001b[39m\u001b[38;5;124mFailed to add addr: \u001b[39m\u001b[38;5;132;01m{\u001b[39;00me\u001b[38;5;132;01m}\u001b[39;00m\u001b[38;5;124m\"\u001b[39m)\n\u001b[0;32m-> 2501\u001b[0m     \u001b[38;5;28;01mraise\u001b[39;00m e\n",
      "File \u001b[0;32m/opt/conda/lib/python3.11/site-packages/fabrictestbed_extensions/fablib/node.py:2495\u001b[0m, in \u001b[0;36mNode.ip_addr_add\u001b[0;34m(self, addr, subnet, interface)\u001b[0m\n\u001b[1;32m   2492\u001b[0m     ip_command \u001b[38;5;241m=\u001b[39m \u001b[38;5;124m\"\u001b[39m\u001b[38;5;124msudo ip\u001b[39m\u001b[38;5;124m\"\u001b[39m\n\u001b[1;32m   2494\u001b[0m \u001b[38;5;28;01mtry\u001b[39;00m:\n\u001b[0;32m-> 2495\u001b[0m     \u001b[38;5;28;43mself\u001b[39;49m\u001b[38;5;241;43m.\u001b[39;49m\u001b[43mexecute\u001b[49m\u001b[43m(\u001b[49m\n\u001b[1;32m   2496\u001b[0m \u001b[43m        \u001b[49m\u001b[38;5;124;43mf\u001b[39;49m\u001b[38;5;124;43m\"\u001b[39;49m\u001b[38;5;132;43;01m{\u001b[39;49;00m\u001b[43mip_command\u001b[49m\u001b[38;5;132;43;01m}\u001b[39;49;00m\u001b[38;5;124;43m addr add \u001b[39;49m\u001b[38;5;132;43;01m{\u001b[39;49;00m\u001b[43maddr\u001b[49m\u001b[38;5;132;43;01m}\u001b[39;49;00m\u001b[38;5;124;43m/\u001b[39;49m\u001b[38;5;132;43;01m{\u001b[39;49;00m\u001b[43msubnet\u001b[49m\u001b[38;5;241;43m.\u001b[39;49m\u001b[43mprefixlen\u001b[49m\u001b[38;5;132;43;01m}\u001b[39;49;00m\u001b[38;5;124;43m dev \u001b[39;49m\u001b[38;5;132;43;01m{\u001b[39;49;00m\u001b[43minterface\u001b[49m\u001b[38;5;241;43m.\u001b[39;49m\u001b[43mget_device_name\u001b[49m\u001b[43m(\u001b[49m\u001b[43m)\u001b[49m\u001b[38;5;132;43;01m}\u001b[39;49;00m\u001b[38;5;124;43m \u001b[39;49m\u001b[38;5;124;43m\"\u001b[39;49m\u001b[43m,\u001b[49m\n\u001b[1;32m   2497\u001b[0m \u001b[43m        \u001b[49m\u001b[43mquiet\u001b[49m\u001b[38;5;241;43m=\u001b[39;49m\u001b[38;5;28;43;01mTrue\u001b[39;49;00m\u001b[43m,\u001b[49m\n\u001b[1;32m   2498\u001b[0m \u001b[43m    \u001b[49m\u001b[43m)\u001b[49m\n\u001b[1;32m   2499\u001b[0m \u001b[38;5;28;01mexcept\u001b[39;00m \u001b[38;5;167;01mException\u001b[39;00m \u001b[38;5;28;01mas\u001b[39;00m e:\n\u001b[1;32m   2500\u001b[0m     logging\u001b[38;5;241m.\u001b[39mwarning(\u001b[38;5;124mf\u001b[39m\u001b[38;5;124m\"\u001b[39m\u001b[38;5;124mFailed to add addr: \u001b[39m\u001b[38;5;132;01m{\u001b[39;00me\u001b[38;5;132;01m}\u001b[39;00m\u001b[38;5;124m\"\u001b[39m)\n",
      "File \u001b[0;32m/opt/conda/lib/python3.11/site-packages/fabrictestbed_extensions/fablib/node.py:1489\u001b[0m, in \u001b[0;36mNode.execute\u001b[0;34m(self, command, retry, retry_interval, username, private_key_file, private_key_passphrase, quiet, read_timeout, timeout, output_file)\u001b[0m\n\u001b[1;32m   1487\u001b[0m \u001b[38;5;28;01melse\u001b[39;00m:\n\u001b[1;32m   1488\u001b[0m     logging\u001b[38;5;241m.\u001b[39merror(\u001b[38;5;124m\"\u001b[39m\u001b[38;5;124mnode.execute: Management IP Invalid:\u001b[39m\u001b[38;5;124m\"\u001b[39m, exc_info\u001b[38;5;241m=\u001b[39m\u001b[38;5;28;01mTrue\u001b[39;00m)\n\u001b[0;32m-> 1489\u001b[0m     \u001b[38;5;28;01mraise\u001b[39;00m \u001b[38;5;167;01mException\u001b[39;00m(\u001b[38;5;124mf\u001b[39m\u001b[38;5;124m\"\u001b[39m\u001b[38;5;124mnode.execute: Management IP Invalid: \u001b[39m\u001b[38;5;132;01m{\u001b[39;00mmanagement_ip\u001b[38;5;132;01m}\u001b[39;00m\u001b[38;5;124m\"\u001b[39m)\n\u001b[1;32m   1490\u001b[0m dest_addr \u001b[38;5;241m=\u001b[39m (management_ip, \u001b[38;5;241m22\u001b[39m)\n\u001b[1;32m   1492\u001b[0m bastion_username \u001b[38;5;241m=\u001b[39m \u001b[38;5;28mself\u001b[39m\u001b[38;5;241m.\u001b[39mget_fablib_manager()\u001b[38;5;241m.\u001b[39mget_bastion_username()\n",
      "\u001b[0;31mException\u001b[0m: node.execute: Management IP Invalid: None"
     ]
    }
   ],
   "source": [
    "node1_iface2.ip_addr_add(addr=node1_addr2, subnet=network2.get_subnet())"
   ]
  },
  {
   "cell_type": "code",
   "execution_count": 31,
   "id": "0cec003f-918d-4969-9423-c6cc904cdc67",
   "metadata": {},
   "outputs": [
    {
     "data": {
      "text/plain": [
       "IPv6Address('2602:fcfb:1d:1::2')"
      ]
     },
     "execution_count": 31,
     "metadata": {},
     "output_type": "execute_result"
    }
   ],
   "source": [
    "node1_addr2"
   ]
  },
  {
   "cell_type": "code",
   "execution_count": 32,
   "id": "6b286cc8-eae8-4a4a-bcec-4db8463b0685",
   "metadata": {},
   "outputs": [
    {
     "data": {
      "text/plain": [
       "IPv6Network('2602:fcfb:1d:1::/64')"
      ]
     },
     "execution_count": 32,
     "metadata": {},
     "output_type": "execute_result"
    }
   ],
   "source": [
    "network2.get_subnet()"
   ]
  },
  {
   "cell_type": "code",
   "execution_count": 7,
   "id": "5c395f24-9a65-45ac-9eca-8a0f4765a4d3",
   "metadata": {},
   "outputs": [
    {
     "name": "stdout",
     "output_type": "stream",
     "text": [
      "{'ssh -i /home/fabric/work/fabric_config/slice_key -F /home/fabric/work/fabric_config/ssh_config rocky@2001:400:a100:3090:f816:3eff:fe37:ed82'}\n"
     ]
    }
   ],
   "source": [
    "nodes = slice.get_nodes()\n",
    "print({nodes[0].get_ssh_command()})\n"
   ]
  },
  {
   "cell_type": "code",
   "execution_count": null,
   "id": "75f08b40-d1c5-481b-8dbd-1885901d8e24",
   "metadata": {},
   "outputs": [],
   "source": []
  }
 ],
 "metadata": {
  "kernelspec": {
   "display_name": "Python 3 (ipykernel)",
   "language": "python",
   "name": "python3"
  },
  "language_info": {
   "codemirror_mode": {
    "name": "ipython",
    "version": 3
   },
   "file_extension": ".py",
   "mimetype": "text/x-python",
   "name": "python",
   "nbconvert_exporter": "python",
   "pygments_lexer": "ipython3",
   "version": "3.11.8"
  }
 },
 "nbformat": 4,
 "nbformat_minor": 5
}
