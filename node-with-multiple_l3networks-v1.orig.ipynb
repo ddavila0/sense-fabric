{
 "cells": [
  {
   "cell_type": "markdown",
   "metadata": {},
   "source": [
    "# Creating FABnet IPv6 Network: Manual Configuration\n",
    "\n",
    "FABRIC provides a pair of layer 3 IP networking services across every FABRIC site (FABnetv4 and FABnetv6). You can think of this service as a private internet that connects experiments across the testbed using FABRIC's high-performance network links. \n",
    "\n",
    "This notebook describes how to use the FABnetv4 service which is FABRIC's private IPv6 internet and configure the addresses manually, after the slice becomes active. \n",
    "   "
   ]
  },
  {
   "cell_type": "markdown",
   "metadata": {},
   "source": [
    "## Import the FABlib Library\n"
   ]
  },
  {
   "cell_type": "code",
   "execution_count": null,
   "metadata": {},
   "outputs": [],
   "source": [
    "from fabrictestbed_extensions.fablib.fablib import FablibManager as fablib_manager\n",
    "\n",
    "fablib = fablib_manager()\n",
    "                     \n",
    "fablib.show_config();"
   ]
  },
  {
   "cell_type": "markdown",
   "metadata": {
    "tags": []
   },
   "source": [
    "## Create the Experiment Slice\n",
    "\n",
    "The following creates two nodes, on different sites, with basic NICs connected to FABRIC's FABnetv4 internet.  \n",
    "\n",
    "Two nodes are created and one NIC component is added to each node.  This example uses components of model `NIC_Basic` which are SR-IOV Virtual Function on a 100 Gpbs Mellanox ConnectX-6 PCI device. The VF is accessed by the node via PCI passthrough. Other NIC models are listed below. When using dedicated PCI devices the whole physical device is allocated to one node and the device is accessed by the node using PCI passthrough. Calling the `get_interfaces()` method on a component will return a list of interfaces. Many dedicated NIC components may have more than one port.  Either port can be connected to the network.\n",
    "\n",
    "Next, add a separate `l3network` for each site and pass the list of interfaces on that site that you want to connect to FABnetv4. All interfaces passed to `l3network` must be on the same site and each network will be placed on that site.  By default, a node is put on a random site.  If you want to ensure that your nodes are all on different sites you can specify the name of the sites in the `add_node` methode.  You can use the `fablib.get_random_site()` method to get a set of random site names that guarantee that the sites are different. \n",
    "\n",
    "Manual configuration does not require any additional steps before the slice request is submitted.\n",
    "\n",
    "NIC component models options:\n",
    "- NIC_Basic: 100 Gbps Mellanox ConnectX-6 SR-IOV VF (1 Port)\n",
    "- NIC_ConnectX_5: 25 Gbps Dedicated Mellanox ConnectX-5 PCI Device (2 Ports) \n",
    "- NIC_ConnectX_6: 100 Gbps Dedicated Mellanox ConnectX-6 PCI Device (2 Ports) \n",
    "\n",
    "\n"
   ]
  },
  {
   "cell_type": "code",
   "execution_count": null,
   "metadata": {},
   "outputs": [],
   "source": [
    "slice_name = 'Node-Multiple-Interfaces-1'\n",
    "#[site1,site2] = fablib.get_random_sites(count=2)\n",
    "#print(f\"Sites: {site1}, {site2}\")\n",
    "site1='CERN'\n",
    "print(f\"Sites: {site1}\")\n",
    "\n",
    "node1_name = 'Node1'\n",
    "#node2_name = 'Node2'\n",
    "\n",
    "network1_name='net1'\n",
    "network2_name='net2'\n",
    "network3_name='net3'\n",
    "\n",
    "node1_nic1_name = 'nic1'\n",
    "node1_nic2_name = 'nic2'\n",
    "node1_nic3_name = 'nic3'"
   ]
  },
  {
   "cell_type": "code",
   "execution_count": null,
   "metadata": {
    "tags": []
   },
   "outputs": [],
   "source": [
    "#Create Slice\n",
    "slice = fablib.new_slice(name=slice_name)\n",
    "\n",
    "# Node1\n",
    "node1 = slice.add_node(name=node1_name, site=site1)\n",
    "iface1 = node1.add_component(model='NIC_Basic', name=node1_nic1_name).get_interfaces()[0]\n",
    "iface2 = node1.add_component(model='NIC_Basic', name=node1_nic2_name).get_interfaces()[0]\n",
    "iface3 = node1.add_component(model='NIC_Basic', name=node1_nic3_name).get_interfaces()[0]\n",
    "\n",
    "\n",
    "# Node2\n",
    "#node2 = slice.add_node(name=node2_name, site=site2)\n",
    "#iface2  = node2.add_component(model='NIC_Basic', name=node2_nic_name).get_interfaces()[0]\n",
    "\n",
    "# NetworkS\n",
    "net1 = slice.add_l3network(name=network1_name, interfaces=[iface1], type='IPv6')\n",
    "net2 = slice.add_l3network(name=network2_name, interfaces=[iface2], type='IPv6Ext')\n",
    "net3 = slice.add_l3network(name=network3_name, interfaces=[iface3], type='IPv4')\n",
    "\n",
    "#Submit Slice Request\n",
    "slice.submit();"
   ]
  },
  {
   "cell_type": "markdown",
   "metadata": {
    "tags": []
   },
   "source": [
    "##  Manually Configure IP Addresses\n",
    "\n",
    "Most users will want to configure IP addresses on their new nodes.  FABlib provides some useful methods to help you manually configure basic IP addresses. \n",
    "\n",
    "### Pick a Subnet\n",
    "\n",
    "Create a subnet and list of available IP addresses. All objects are Python IP management objects. You can use either IPv4 or IPv6 subnets and addresses."
   ]
  },
  {
   "cell_type": "code",
   "execution_count": null,
   "metadata": {},
   "outputs": [],
   "source": [
    "network1 = slice.get_network(name=network1_name)\n",
    "network1_available_ips = network1.get_available_ips()\n",
    "network1.show()\n",
    "\n",
    "network2 = slice.get_network(name=network2_name)\n",
    "network2_available_ips =  network2.get_available_ips()\n",
    "network2.show();\n",
    "\n",
    "network3 = slice.get_network(name=network3_name)\n",
    "network3_available_ips =  network3.get_available_ips()\n",
    "network3.show();"
   ]
  },
  {
   "cell_type": "markdown",
   "metadata": {},
   "source": [
    "## Request external access\n",
    "Users explicitly request the IP Adresses with external access. "
   ]
  },
  {
   "cell_type": "code",
   "execution_count": null,
   "metadata": {},
   "outputs": [],
   "source": [
    "try:\n",
    "    \n",
    "    # Enable Public IPv6Ext make_ip_publicly_routable\n",
    "    network2.make_ip_publicly_routable(ipv6=[str(network2_available_ips[0])])\n",
    "\n",
    "    slice.submit()\n",
    "\n",
    "except Exception as e:\n",
    "    print(f\"Exception: {e}\")\n",
    "    import traceback\n",
    "    traceback.print_exc()"
   ]
  },
  {
   "cell_type": "markdown",
   "metadata": {},
   "source": [
    "### Configure Node1\n",
    "\n",
    "Get the node and the interface you wish to configure.  You can use `node.get_interface` to get the interface that is connected to the specified network.  Then `pop` an IP address from the list of available IPs and call `iface.ip_addr_add` to set the IP and subnet.  \n",
    "\n",
    "Then set a route from *this network* to the *other network* through the specified gateway.\n",
    "\n",
    "\n",
    "Optionally, use the `node.execute()` method to show the results of adding the IP address and route.\n",
    "\n",
    "### Configure Node1\n",
    "\n",
    "Configure the interface on node1.  "
   ]
  },
  {
   "cell_type": "code",
   "execution_count": null,
   "metadata": {},
   "outputs": [],
   "source": [
    "node1 = slice.get_node(name=node1_name)        \n",
    "node1_iface1 = node1.get_interface(network_name=network1_name)  \n",
    "node1_addr1 = network1_available_ips.pop(0)\n",
    "node1_iface1.ip_addr_add(addr=node1_addr1, subnet=network1.get_subnet())\n",
    "      \n",
    "node1_iface2 = node1.get_interface(network_name=network2_name)  \n",
    "node1_addr2 = network2_available_ips.pop(0)\n",
    "node1_iface2.ip_addr_add(addr=node1_addr2, subnet=network2.get_subnet())\n",
    "\n",
    "node1_iface3 = node1.get_interface(network_name=network3_name)  \n",
    "node1_addr3 = network3_available_ips.pop(0)\n",
    "node1_iface3.ip_addr_add(addr=node1_addr3, subnet=network3.get_subnet())\n",
    "\n",
    "#node1.ip_route_add(subnet=network2.get_subnet(), gateway=network1.get_gateway())\n",
    "\n",
    "stdout, stderr = node1.execute(f'ip addr show {node1_iface1.get_device_name()}')\n",
    "stdout, stderr = node1.execute(f'ip addr show {node1_iface2.get_device_name()}')\n",
    "stdout, stderr = node1.execute(f'ip addr show {node1_iface3.get_device_name()}')\n",
    "stdout, stderr = node1.execute(f'ip route list')"
   ]
  },
  {
   "cell_type": "markdown",
   "metadata": {},
   "source": [
    "### Configure Node2\n",
    "\n",
    "Repeat the steps to add the next available IP to the second node and a route to the first network."
   ]
  },
  {
   "cell_type": "code",
   "execution_count": null,
   "metadata": {},
   "outputs": [],
   "source": [
    "#node2 = slice.get_node(name=node2_name)        \n",
    "#node2_iface = node2.get_interface(network_name=network2_name) \n",
    "#node2_addr = network2_available_ips.pop(0)\n",
    "#node2_iface.ip_addr_add(addr=node2_addr, subnet=network2.get_subnet())\n",
    "\n",
    "#node2.ip_route_add(subnet=network1.get_subnet(), gateway=network2.get_gateway())\n",
    "\n",
    "#stdout, stderr = node2.execute(f'ip addr show {node2_iface.get_device_name()}')\n",
    "#stdout, stderr = node2.execute(f'ip route list')"
   ]
  },
  {
   "cell_type": "markdown",
   "metadata": {},
   "source": [
    "## Run the Experiment\n",
    "\n",
    "We will find the ping round trip time for this pair of sites.  Your experiment should be more interesting!\n"
   ]
  },
  {
   "cell_type": "code",
   "execution_count": null,
   "metadata": {},
   "outputs": [],
   "source": [
    "node1 = slice.get_node(name=node1_name)        \n",
    "\n",
    "#stdout, stderr = node1.execute(f'ping -c 5 {node2_addr}')"
   ]
  },
  {
   "cell_type": "markdown",
   "metadata": {},
   "source": [
    "## Renew Slice\n",
    "Slice expiration time can be extended using the below\n",
    "Adjust the days=# to extend"
   ]
  },
  {
   "cell_type": "code",
   "execution_count": null,
   "metadata": {},
   "outputs": [],
   "source": [
    "from datetime import datetime\n",
    "from datetime import timezone\n",
    "from datetime import timedelta\n",
    "\n",
    "#Set end host to now plus 3 days\n",
    "end_date = (datetime.now(timezone.utc) + timedelta(days=10)).strftime(\"%Y-%m-%d %H:%M:%S %z\")\n",
    "\n",
    "try:\n",
    "    slice = fablib.get_slice(name=slice_name)\n",
    "\n",
    "    slice.renew(end_date)\n",
    "except Exception as e:\n",
    "    print(f\"Exception: {e}\")"
   ]
  },
  {
   "cell_type": "markdown",
   "metadata": {},
   "source": [
    "## Check Lease End Date"
   ]
  },
  {
   "cell_type": "code",
   "execution_count": null,
   "metadata": {},
   "outputs": [],
   "source": [
    "#slice_name = \"Node-Multiple-Interfaces-1\"\n",
    "\n",
    "try:\n",
    "    slice = fablib.get_slice(name=slice_name)\n",
    "    print(f\"Lease End (UTC)        : {slice.get_lease_end()}\")\n",
    "       \n",
    "except Exception as e:\n",
    "    print(f\"Exception: {e}\")"
   ]
  },
  {
   "cell_type": "markdown",
   "metadata": {},
   "source": [
    "## Delete the Slice\n",
    "\n",
    "Please delete your slice when you are done with your experiment."
   ]
  },
  {
   "cell_type": "code",
   "execution_count": null,
   "metadata": {},
   "outputs": [],
   "source": [
    "#slice_name = \"Node-Multiple-Interfaces-1\"\n",
    "#slice = fablib.get_slice(name=slice_name)\n",
    "slice.delete()"
   ]
  },
  {
   "cell_type": "code",
   "execution_count": null,
   "metadata": {},
   "outputs": [],
   "source": []
  }
 ],
 "metadata": {
  "kernelspec": {
   "display_name": "Python 3 (ipykernel)",
   "language": "python",
   "name": "python3"
  },
  "language_info": {
   "codemirror_mode": {
    "name": "ipython",
    "version": 3
   },
   "file_extension": ".py",
   "mimetype": "text/x-python",
   "name": "python",
   "nbconvert_exporter": "python",
   "pygments_lexer": "ipython3",
   "version": "3.11.8"
  }
 },
 "nbformat": 4,
 "nbformat_minor": 4
}
