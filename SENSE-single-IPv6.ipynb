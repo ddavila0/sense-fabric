{
 "cells": [
  {
   "cell_type": "code",
   "execution_count": 1,
   "id": "20f92198-a6d3-439e-96fa-2ee64a5d5276",
   "metadata": {},
   "outputs": [],
   "source": [
    "from fabrictestbed_extensions.fablib.fablib import FablibManager as fablib_manager\n",
    "fablib = fablib_manager()\n",
    "#fablib.show_config();"
   ]
  },
  {
   "cell_type": "code",
   "execution_count": null,
   "id": "13625989-36fb-40be-98d1-6b2eafd49fdd",
   "metadata": {},
   "outputs": [],
   "source": [
    "#Create Slice\n",
    "slice = fablib.new_slice(name=\"slice_CERN\")\n",
    "\n",
    "# Node1\n",
    "node1 = slice.add_node(name=\"node1\", site=\"CERN\")\n",
    "iface1 = node1.add_component(model='NIC_Basic', name=\"nic1\").get_interfaces()[0]\n",
    "\n",
    "# Network (use IPV6Ext only if you need the interfaces to go outside the FABRIC network, use IPV6 otherwise)\n",
    "slice.add_l3network(name=\"net1\", interfaces=[iface1], type='IPv6Ext')\n",
    "\n",
    "#Submit Slice Request\n",
    "slice.submit();"
   ]
  },
  {
   "cell_type": "code",
   "execution_count": null,
   "id": "752a6a9e-98c7-4b75-b5ff-99393604bdc1",
   "metadata": {},
   "outputs": [],
   "source": [
    "# For some reason we need to get the objects again\n",
    "net1 = slice.get_network(name=\"net1\")\n",
    "node1 = slice.get_nodes()[0]\n",
    "\n",
    "# Get 1 available IP\n",
    "avail_ip = net1.get_available_ips()[1]"
   ]
  },
  {
   "cell_type": "code",
   "execution_count": null,
   "id": "ab3a4867-811a-40e5-8533-8332fc68fea0",
   "metadata": {
    "scrolled": true
   },
   "outputs": [],
   "source": [
    "# Request the IP to be routable outside FABRIC (only if needed)\n",
    "net1.make_ip_publicly_routable(ipv6=[str(avail_ip)])\n",
    "slice.submit();"
   ]
  },
  {
   "cell_type": "code",
   "execution_count": 7,
   "id": "d34ee80e-17e3-48b6-888b-b18f1a493e92",
   "metadata": {
    "scrolled": true
   },
   "outputs": [
    {
     "name": "stdout",
     "output_type": "stream",
     "text": [
      " ip -6 addr add 2602:fcfb:1d:1::3/64 dev eth1\n"
     ]
    }
   ],
   "source": [
    "# The command below, to add an IP to a given interface doesn't work\n",
    "# ==>iface1.ip_addr_add(addr=avail_ip, subnet=net1.get_subnet())\n",
    "#Instead do manually:\n",
    "print(f\" ip -6 addr add {avail_ip}/64 dev eth1\") "
   ]
  },
  {
   "cell_type": "code",
   "execution_count": null,
   "id": "5c395f24-9a65-45ac-9eca-8a0f4765a4d3",
   "metadata": {},
   "outputs": [],
   "source": [
    "nodes = slice.get_nodes()\n",
    "print({nodes[0].get_ssh_command()})\n"
   ]
  },
  {
   "cell_type": "code",
   "execution_count": 28,
   "id": "28d4bc62-9da2-4701-a7e4-617f216fb7ea",
   "metadata": {},
   "outputs": [
    {
     "name": "stdout",
     "output_type": "stream",
     "text": [
      "\n",
      "Retry: 0, Time: 33 sec\n"
     ]
    },
    {
     "data": {
      "text/html": [
       "<style type=\"text/css\">\n",
       "#T_8b0ab tr:nth-child(even) {\n",
       "  background: #dbf3ff;\n",
       "  color: #231f20;\n",
       "}\n",
       "#T_8b0ab tr:nth-child(odd) {\n",
       "  background: #ffffff;\n",
       "  color: #231f20;\n",
       "}\n",
       "#T_8b0ab caption {\n",
       "  text-align: center;\n",
       "  font-size: 150%;\n",
       "}\n",
       "#T_8b0ab_row0_col0, #T_8b0ab_row0_col1, #T_8b0ab_row1_col0, #T_8b0ab_row1_col1, #T_8b0ab_row2_col0, #T_8b0ab_row2_col1, #T_8b0ab_row3_col0, #T_8b0ab_row3_col1, #T_8b0ab_row4_col0, #T_8b0ab_row4_col1, #T_8b0ab_row5_col0 {\n",
       "  text-align: left;\n",
       "  border: 1px #231f20 solid !important;\n",
       "  overwrite: False;\n",
       "  background-color: ;\n",
       "}\n",
       "#T_8b0ab_row5_col1 {\n",
       "  text-align: left;\n",
       "  border: 1px #231f20 solid !important;\n",
       "  overwrite: False;\n",
       "  background-color: #c3ffc4;\n",
       "}\n",
       "</style>\n",
       "<table id=\"T_8b0ab\">\n",
       "  <caption>Slice</caption>\n",
       "  <thead>\n",
       "  </thead>\n",
       "  <tbody>\n",
       "    <tr>\n",
       "      <td id=\"T_8b0ab_row0_col0\" class=\"data row0 col0\" >ID</td>\n",
       "      <td id=\"T_8b0ab_row0_col1\" class=\"data row0 col1\" >579c151d-a38c-40de-a612-f9558fa922ca</td>\n",
       "    </tr>\n",
       "    <tr>\n",
       "      <td id=\"T_8b0ab_row1_col0\" class=\"data row1 col0\" >Name</td>\n",
       "      <td id=\"T_8b0ab_row1_col1\" class=\"data row1 col1\" >slice_CERN</td>\n",
       "    </tr>\n",
       "    <tr>\n",
       "      <td id=\"T_8b0ab_row2_col0\" class=\"data row2 col0\" >Lease Expiration (UTC)</td>\n",
       "      <td id=\"T_8b0ab_row2_col1\" class=\"data row2 col1\" >2024-08-07 17:55:07 +0000</td>\n",
       "    </tr>\n",
       "    <tr>\n",
       "      <td id=\"T_8b0ab_row3_col0\" class=\"data row3 col0\" >Lease Start (UTC)</td>\n",
       "      <td id=\"T_8b0ab_row3_col1\" class=\"data row3 col1\" >2024-07-24 15:12:05 +0000</td>\n",
       "    </tr>\n",
       "    <tr>\n",
       "      <td id=\"T_8b0ab_row4_col0\" class=\"data row4 col0\" >Project ID</td>\n",
       "      <td id=\"T_8b0ab_row4_col1\" class=\"data row4 col1\" >a57c7715-d871-4369-82e6-408c9a57a6e7</td>\n",
       "    </tr>\n",
       "    <tr>\n",
       "      <td id=\"T_8b0ab_row5_col0\" class=\"data row5 col0\" >State</td>\n",
       "      <td id=\"T_8b0ab_row5_col1\" class=\"data row5 col1\" >StableOK</td>\n",
       "    </tr>\n",
       "  </tbody>\n",
       "</table>\n"
      ],
      "text/plain": [
       "<pandas.io.formats.style.Styler at 0x7cd25e6b3950>"
      ]
     },
     "metadata": {},
     "output_type": "display_data"
    },
    {
     "data": {
      "text/html": [
       "<style type=\"text/css\">\n",
       "#T_4a9ee caption {\n",
       "  text-align: center;\n",
       "  font-size: 150%;\n",
       "  caption-side: top;\n",
       "}\n",
       "#T_4a9ee th {\n",
       "  text-align: left;\n",
       "}\n",
       "#T_4a9ee tr:nth-child(even) {\n",
       "  background: #ffffff;\n",
       "  color: #231f20;\n",
       "}\n",
       "#T_4a9ee tr:nth-child(odd) {\n",
       "  background: #dbf3ff;\n",
       "  color: #231f20;\n",
       "}\n",
       "#T_4a9ee .level0 {\n",
       "  border: 1px black solid !important;\n",
       "  background: #ffffff;\n",
       "  color: #231f20;\n",
       "}\n",
       "#T_4a9ee_row0_col0, #T_4a9ee_row0_col1, #T_4a9ee_row0_col2, #T_4a9ee_row0_col3, #T_4a9ee_row0_col4, #T_4a9ee_row0_col5, #T_4a9ee_row0_col6, #T_4a9ee_row0_col7, #T_4a9ee_row0_col8, #T_4a9ee_row0_col9, #T_4a9ee_row0_col10, #T_4a9ee_row0_col13, #T_4a9ee_row0_col14, #T_4a9ee_row0_col15 {\n",
       "  text-align: left;\n",
       "  border: 1px #231f20 solid !important;\n",
       "  overwrite: False;\n",
       "}\n",
       "#T_4a9ee_row0_col11 {\n",
       "  text-align: left;\n",
       "  border: 1px #231f20 solid !important;\n",
       "  overwrite: False;\n",
       "  background-color: #c3ffc4;\n",
       "}\n",
       "#T_4a9ee_row0_col12 {\n",
       "  text-align: left;\n",
       "  border: 1px #231f20 solid !important;\n",
       "  overwrite: False;\n",
       "  background-color: ;\n",
       "}\n",
       "</style>\n",
       "<table id=\"T_4a9ee\">\n",
       "  <caption>Nodes</caption>\n",
       "  <thead>\n",
       "    <tr>\n",
       "      <th id=\"T_4a9ee_level0_col0\" class=\"col_heading level0 col0\" >ID</th>\n",
       "      <th id=\"T_4a9ee_level0_col1\" class=\"col_heading level0 col1\" >Name</th>\n",
       "      <th id=\"T_4a9ee_level0_col2\" class=\"col_heading level0 col2\" >Cores</th>\n",
       "      <th id=\"T_4a9ee_level0_col3\" class=\"col_heading level0 col3\" >RAM</th>\n",
       "      <th id=\"T_4a9ee_level0_col4\" class=\"col_heading level0 col4\" >Disk</th>\n",
       "      <th id=\"T_4a9ee_level0_col5\" class=\"col_heading level0 col5\" >Image</th>\n",
       "      <th id=\"T_4a9ee_level0_col6\" class=\"col_heading level0 col6\" >Image Type</th>\n",
       "      <th id=\"T_4a9ee_level0_col7\" class=\"col_heading level0 col7\" >Host</th>\n",
       "      <th id=\"T_4a9ee_level0_col8\" class=\"col_heading level0 col8\" >Site</th>\n",
       "      <th id=\"T_4a9ee_level0_col9\" class=\"col_heading level0 col9\" >Username</th>\n",
       "      <th id=\"T_4a9ee_level0_col10\" class=\"col_heading level0 col10\" >Management IP</th>\n",
       "      <th id=\"T_4a9ee_level0_col11\" class=\"col_heading level0 col11\" >State</th>\n",
       "      <th id=\"T_4a9ee_level0_col12\" class=\"col_heading level0 col12\" >Error</th>\n",
       "      <th id=\"T_4a9ee_level0_col13\" class=\"col_heading level0 col13\" >SSH Command</th>\n",
       "      <th id=\"T_4a9ee_level0_col14\" class=\"col_heading level0 col14\" >Public SSH Key File</th>\n",
       "      <th id=\"T_4a9ee_level0_col15\" class=\"col_heading level0 col15\" >Private SSH Key File</th>\n",
       "    </tr>\n",
       "  </thead>\n",
       "  <tbody>\n",
       "    <tr>\n",
       "      <td id=\"T_4a9ee_row0_col0\" class=\"data row0 col0\" >cc0b464a-5c46-47b3-bff2-cfc7d8afaa63</td>\n",
       "      <td id=\"T_4a9ee_row0_col1\" class=\"data row0 col1\" >node1</td>\n",
       "      <td id=\"T_4a9ee_row0_col2\" class=\"data row0 col2\" >2</td>\n",
       "      <td id=\"T_4a9ee_row0_col3\" class=\"data row0 col3\" >8</td>\n",
       "      <td id=\"T_4a9ee_row0_col4\" class=\"data row0 col4\" >10</td>\n",
       "      <td id=\"T_4a9ee_row0_col5\" class=\"data row0 col5\" >default_rocky_8</td>\n",
       "      <td id=\"T_4a9ee_row0_col6\" class=\"data row0 col6\" >qcow2</td>\n",
       "      <td id=\"T_4a9ee_row0_col7\" class=\"data row0 col7\" >cern-w1.fabric-testbed.net</td>\n",
       "      <td id=\"T_4a9ee_row0_col8\" class=\"data row0 col8\" >CERN</td>\n",
       "      <td id=\"T_4a9ee_row0_col9\" class=\"data row0 col9\" >rocky</td>\n",
       "      <td id=\"T_4a9ee_row0_col10\" class=\"data row0 col10\" >2001:400:a100:3090:f816:3eff:fe7b:4cdf</td>\n",
       "      <td id=\"T_4a9ee_row0_col11\" class=\"data row0 col11\" >Active</td>\n",
       "      <td id=\"T_4a9ee_row0_col12\" class=\"data row0 col12\" ></td>\n",
       "      <td id=\"T_4a9ee_row0_col13\" class=\"data row0 col13\" >ssh -i /home/fabric/work/fabric_config/slice_key -F /home/fabric/work/fabric_config/ssh_config rocky@2001:400:a100:3090:f816:3eff:fe7b:4cdf</td>\n",
       "      <td id=\"T_4a9ee_row0_col14\" class=\"data row0 col14\" >/home/fabric/work/fabric_config/slice_key.pub</td>\n",
       "      <td id=\"T_4a9ee_row0_col15\" class=\"data row0 col15\" >/home/fabric/work/fabric_config/slice_key</td>\n",
       "    </tr>\n",
       "  </tbody>\n",
       "</table>\n"
      ],
      "text/plain": [
       "<pandas.io.formats.style.Styler at 0x7cd25e642810>"
      ]
     },
     "metadata": {},
     "output_type": "display_data"
    },
    {
     "data": {
      "text/html": [
       "<style type=\"text/css\">\n",
       "#T_73fd0 caption {\n",
       "  text-align: center;\n",
       "  font-size: 150%;\n",
       "  caption-side: top;\n",
       "}\n",
       "#T_73fd0 th {\n",
       "  text-align: left;\n",
       "}\n",
       "#T_73fd0 tr:nth-child(even) {\n",
       "  background: #ffffff;\n",
       "  color: #231f20;\n",
       "}\n",
       "#T_73fd0 tr:nth-child(odd) {\n",
       "  background: #dbf3ff;\n",
       "  color: #231f20;\n",
       "}\n",
       "#T_73fd0 .level0 {\n",
       "  border: 1px black solid !important;\n",
       "  background: #ffffff;\n",
       "  color: #231f20;\n",
       "}\n",
       "#T_73fd0_row0_col0, #T_73fd0_row0_col1, #T_73fd0_row0_col2, #T_73fd0_row0_col3, #T_73fd0_row0_col4, #T_73fd0_row0_col5, #T_73fd0_row0_col6 {\n",
       "  text-align: left;\n",
       "  border: 1px #231f20 solid !important;\n",
       "  overwrite: False;\n",
       "}\n",
       "#T_73fd0_row0_col7 {\n",
       "  text-align: left;\n",
       "  border: 1px #231f20 solid !important;\n",
       "  overwrite: False;\n",
       "  background-color: #c3ffc4;\n",
       "}\n",
       "#T_73fd0_row0_col8 {\n",
       "  text-align: left;\n",
       "  border: 1px #231f20 solid !important;\n",
       "  overwrite: False;\n",
       "  background-color: ;\n",
       "}\n",
       "</style>\n",
       "<table id=\"T_73fd0\">\n",
       "  <caption>Networks</caption>\n",
       "  <thead>\n",
       "    <tr>\n",
       "      <th id=\"T_73fd0_level0_col0\" class=\"col_heading level0 col0\" >ID</th>\n",
       "      <th id=\"T_73fd0_level0_col1\" class=\"col_heading level0 col1\" >Name</th>\n",
       "      <th id=\"T_73fd0_level0_col2\" class=\"col_heading level0 col2\" >Layer</th>\n",
       "      <th id=\"T_73fd0_level0_col3\" class=\"col_heading level0 col3\" >Type</th>\n",
       "      <th id=\"T_73fd0_level0_col4\" class=\"col_heading level0 col4\" >Site</th>\n",
       "      <th id=\"T_73fd0_level0_col5\" class=\"col_heading level0 col5\" >Subnet</th>\n",
       "      <th id=\"T_73fd0_level0_col6\" class=\"col_heading level0 col6\" >Gateway</th>\n",
       "      <th id=\"T_73fd0_level0_col7\" class=\"col_heading level0 col7\" >State</th>\n",
       "      <th id=\"T_73fd0_level0_col8\" class=\"col_heading level0 col8\" >Error</th>\n",
       "    </tr>\n",
       "  </thead>\n",
       "  <tbody>\n",
       "    <tr>\n",
       "      <td id=\"T_73fd0_row0_col0\" class=\"data row0 col0\" >7b53093c-df62-4eee-a6c0-012629593dea</td>\n",
       "      <td id=\"T_73fd0_row0_col1\" class=\"data row0 col1\" >net1</td>\n",
       "      <td id=\"T_73fd0_row0_col2\" class=\"data row0 col2\" >L3</td>\n",
       "      <td id=\"T_73fd0_row0_col3\" class=\"data row0 col3\" >FABNetv6Ext</td>\n",
       "      <td id=\"T_73fd0_row0_col4\" class=\"data row0 col4\" >CERN</td>\n",
       "      <td id=\"T_73fd0_row0_col5\" class=\"data row0 col5\" >2602:fcfb:1d:1::/64</td>\n",
       "      <td id=\"T_73fd0_row0_col6\" class=\"data row0 col6\" >2602:fcfb:1d:1::1</td>\n",
       "      <td id=\"T_73fd0_row0_col7\" class=\"data row0 col7\" >Active</td>\n",
       "      <td id=\"T_73fd0_row0_col8\" class=\"data row0 col8\" ></td>\n",
       "    </tr>\n",
       "  </tbody>\n",
       "</table>\n"
      ],
      "text/plain": [
       "<pandas.io.formats.style.Styler at 0x7cd25e54a710>"
      ]
     },
     "metadata": {},
     "output_type": "display_data"
    },
    {
     "data": {
      "text/html": [
       "<style type=\"text/css\">\n",
       "#T_5fcd3 caption {\n",
       "  text-align: center;\n",
       "  font-size: 150%;\n",
       "  caption-side: top;\n",
       "}\n",
       "#T_5fcd3 th {\n",
       "  text-align: left;\n",
       "}\n",
       "#T_5fcd3 tr:nth-child(even) {\n",
       "  background: #ffffff;\n",
       "  color: #231f20;\n",
       "}\n",
       "#T_5fcd3 tr:nth-child(odd) {\n",
       "  background: #dbf3ff;\n",
       "  color: #231f20;\n",
       "}\n",
       "#T_5fcd3 .level0 {\n",
       "  border: 1px black solid !important;\n",
       "  background: #ffffff;\n",
       "  color: #231f20;\n",
       "}\n",
       "#T_5fcd3_row0_col0, #T_5fcd3_row0_col1, #T_5fcd3_row0_col2, #T_5fcd3_row0_col3, #T_5fcd3_row0_col4, #T_5fcd3_row0_col5, #T_5fcd3_row0_col6, #T_5fcd3_row0_col7, #T_5fcd3_row0_col8, #T_5fcd3_row0_col9, #T_5fcd3_row0_col10, #T_5fcd3_row0_col11, #T_5fcd3_row0_col12 {\n",
       "  text-align: left;\n",
       "  border: 1px #231f20 solid !important;\n",
       "  overwrite: False;\n",
       "}\n",
       "</style>\n",
       "<table id=\"T_5fcd3\">\n",
       "  <caption>Interfaces</caption>\n",
       "  <thead>\n",
       "    <tr>\n",
       "      <th id=\"T_5fcd3_level0_col0\" class=\"col_heading level0 col0\" >Name</th>\n",
       "      <th id=\"T_5fcd3_level0_col1\" class=\"col_heading level0 col1\" >Short Name</th>\n",
       "      <th id=\"T_5fcd3_level0_col2\" class=\"col_heading level0 col2\" >Node</th>\n",
       "      <th id=\"T_5fcd3_level0_col3\" class=\"col_heading level0 col3\" >Network</th>\n",
       "      <th id=\"T_5fcd3_level0_col4\" class=\"col_heading level0 col4\" >Bandwidth</th>\n",
       "      <th id=\"T_5fcd3_level0_col5\" class=\"col_heading level0 col5\" >Mode</th>\n",
       "      <th id=\"T_5fcd3_level0_col6\" class=\"col_heading level0 col6\" >VLAN</th>\n",
       "      <th id=\"T_5fcd3_level0_col7\" class=\"col_heading level0 col7\" >MAC</th>\n",
       "      <th id=\"T_5fcd3_level0_col8\" class=\"col_heading level0 col8\" >Physical Device</th>\n",
       "      <th id=\"T_5fcd3_level0_col9\" class=\"col_heading level0 col9\" >Device</th>\n",
       "      <th id=\"T_5fcd3_level0_col10\" class=\"col_heading level0 col10\" >IP Address</th>\n",
       "      <th id=\"T_5fcd3_level0_col11\" class=\"col_heading level0 col11\" >Numa Node</th>\n",
       "      <th id=\"T_5fcd3_level0_col12\" class=\"col_heading level0 col12\" >Switch Port</th>\n",
       "    </tr>\n",
       "  </thead>\n",
       "  <tbody>\n",
       "    <tr>\n",
       "      <td id=\"T_5fcd3_row0_col0\" class=\"data row0 col0\" >node1-nic1-p1</td>\n",
       "      <td id=\"T_5fcd3_row0_col1\" class=\"data row0 col1\" >p1</td>\n",
       "      <td id=\"T_5fcd3_row0_col2\" class=\"data row0 col2\" >node1</td>\n",
       "      <td id=\"T_5fcd3_row0_col3\" class=\"data row0 col3\" >net1</td>\n",
       "      <td id=\"T_5fcd3_row0_col4\" class=\"data row0 col4\" >100</td>\n",
       "      <td id=\"T_5fcd3_row0_col5\" class=\"data row0 col5\" >config</td>\n",
       "      <td id=\"T_5fcd3_row0_col6\" class=\"data row0 col6\" ></td>\n",
       "      <td id=\"T_5fcd3_row0_col7\" class=\"data row0 col7\" >02:15:60:C2:7A:AD</td>\n",
       "      <td id=\"T_5fcd3_row0_col8\" class=\"data row0 col8\" >None</td>\n",
       "      <td id=\"T_5fcd3_row0_col9\" class=\"data row0 col9\" >eth1</td>\n",
       "      <td id=\"T_5fcd3_row0_col10\" class=\"data row0 col10\" >None</td>\n",
       "      <td id=\"T_5fcd3_row0_col11\" class=\"data row0 col11\" >6</td>\n",
       "      <td id=\"T_5fcd3_row0_col12\" class=\"data row0 col12\" >HundredGigE0/0/0/5</td>\n",
       "    </tr>\n",
       "  </tbody>\n",
       "</table>\n"
      ],
      "text/plain": [
       "<pandas.io.formats.style.Styler at 0x7cd27c4e2750>"
      ]
     },
     "metadata": {},
     "output_type": "display_data"
    },
    {
     "name": "stdout",
     "output_type": "stream",
     "text": [
      "\n",
      "Time to print interfaces 38 seconds\n"
     ]
    }
   ],
   "source": [
    "from datetime import datetime\n",
    "from datetime import timezone\n",
    "from datetime import timedelta\n",
    "\n",
    "#Set end host to now plus 3 days\n",
    "end_date = (datetime.now(timezone.utc) + timedelta(days=15)).strftime(\"%Y-%m-%d %H:%M:%S %z\")\n",
    "slice.renew(end_date)\n"
   ]
  },
  {
   "cell_type": "code",
   "execution_count": 25,
   "id": "33a72fff-7b3a-4b04-8ccc-59e9b8fa6625",
   "metadata": {},
   "outputs": [
    {
     "name": "stdout",
     "output_type": "stream",
     "text": [
      "Lease End (UTC)        : 2024-08-02 17:52:36 +0000\n"
     ]
    }
   ],
   "source": [
    "print(f\"Lease End (UTC)        : {slice.get_lease_end()}\")"
   ]
  },
  {
   "cell_type": "code",
   "execution_count": 23,
   "id": "73b73045-c4e3-40aa-81bd-a247436c0cfd",
   "metadata": {},
   "outputs": [
    {
     "data": {
      "text/plain": [
       "'2024-10-22 17:51:36 +0000'"
      ]
     },
     "execution_count": 23,
     "metadata": {},
     "output_type": "execute_result"
    }
   ],
   "source": [
    "end_date"
   ]
  },
  {
   "cell_type": "code",
   "execution_count": null,
   "id": "76042d5c-62c9-4677-b284-cd3d401d31aa",
   "metadata": {},
   "outputs": [],
   "source": []
  }
 ],
 "metadata": {
  "kernelspec": {
   "display_name": "Python 3 (ipykernel)",
   "language": "python",
   "name": "python3"
  },
  "language_info": {
   "codemirror_mode": {
    "name": "ipython",
    "version": 3
   },
   "file_extension": ".py",
   "mimetype": "text/x-python",
   "name": "python",
   "nbconvert_exporter": "python",
   "pygments_lexer": "ipython3",
   "version": "3.11.8"
  }
 },
 "nbformat": 4,
 "nbformat_minor": 5
}
